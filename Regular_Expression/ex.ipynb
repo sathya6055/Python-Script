{
 "cells": [
  {
   "cell_type": "code",
   "execution_count": 1,
   "metadata": {},
   "outputs": [],
   "source": [
    "import re\n",
    "\n",
    "import warnings\n",
    "warnings.filterwarnings('ignore')"
   ]
  },
  {
   "cell_type": "code",
   "execution_count": 2,
   "metadata": {},
   "outputs": [
    {
     "name": "stdout",
     "output_type": "stream",
     "text": [
      "<re.Match object; span=(35, 41), match='portal'>\n",
      "portal\n",
      "Start Index: 35\n",
      "End Index: 41\n"
     ]
    }
   ],
   "source": [
    "match=re.search(r'portal','GeeksForGeeks: A Computer Scince \\ portal for geeks')\n",
    "print(match)\n",
    "print(match.group())\n",
    "print('Start Index:',match.start())\n",
    "print('End Index:',match.end())"
   ]
  },
  {
   "cell_type": "code",
   "execution_count": 3,
   "metadata": {},
   "outputs": [
    {
     "name": "stdout",
     "output_type": "stream",
     "text": [
      "<re.Match object; span=(35, 41), match='portal'>\n",
      "portal\n"
     ]
    }
   ],
   "source": [
    "match=re.search(r'portal','GeeksForGeeks: A Computer Scince \\ portal for geeks')\n",
    "print(match)\n",
    "print(match.group())"
   ]
  },
  {
   "cell_type": "code",
   "execution_count": 4,
   "metadata": {},
   "outputs": [
    {
     "name": "stdout",
     "output_type": "stream",
     "text": [
      "['Geeks']\n"
     ]
    }
   ],
   "source": [
    "print(re.findall(r'\\BGeeks','GeeksForGeeks: A Computer Scince \\ portal for geeks'))"
   ]
  },
  {
   "cell_type": "markdown",
   "metadata": {},
   "source": [
    "\\A=match if the string with given char\n",
    "\\B=match if the word does not begin end with given char\n",
    "\\b=match if the word begin r end with with given char\n",
    "\\D=match any non digit char (^0-9)\n",
    "\\d=match any digit char(0-9)\n",
    "\\S=match non whitespace\n",
    "\\s=match whitespace\n",
    "\\W=match any alphanumeric char\n",
    "\\w=match alphanumeic char\n",
    "\\Z=match if the string end wth given regex\n",
    "\\n=match newline r escape sequnce"
   ]
  },
  {
   "cell_type": "code",
   "execution_count": 5,
   "metadata": {},
   "outputs": [
    {
     "name": "stdout",
     "output_type": "stream",
     "text": [
      "['Hello', 'Hello']\n"
     ]
    }
   ],
   "source": [
    "text=\"Hello,World! Hello again.\"\n",
    "pattern=r'\\bHello'\n",
    "\n",
    "match=re.findall(pattern,text)\n",
    "print(match)"
   ]
  },
  {
   "cell_type": "code",
   "execution_count": 6,
   "metadata": {},
   "outputs": [
    {
     "name": "stdout",
     "output_type": "stream",
     "text": [
      "['ell', 'ell']\n"
     ]
    }
   ],
   "source": [
    "text=\"Hello,World!Shell\"\n",
    "pattern=r'\\Bell'\n",
    "\n",
    "match=re.findall(pattern,text,re.IGNORECASE)\n",
    "print(match)"
   ]
  },
  {
   "cell_type": "code",
   "execution_count": 7,
   "metadata": {},
   "outputs": [
    {
     "name": "stdout",
     "output_type": "stream",
     "text": [
      "['123']\n"
     ]
    }
   ],
   "source": [
    "text=\"There are 123 Apples.\"\n",
    "pattern=r'\\d+'\n",
    "\n",
    "match=re.findall(pattern,text)\n",
    "print(match)"
   ]
  },
  {
   "cell_type": "code",
   "execution_count": 8,
   "metadata": {},
   "outputs": [
    {
     "name": "stdout",
     "output_type": "stream",
     "text": [
      "['There are ', ' Apples.']\n"
     ]
    }
   ],
   "source": [
    "text=\"There are 123 Apples.\"\n",
    "pattern=r'\\D+'\n",
    "\n",
    "match=re.findall(pattern,text)\n",
    "print(match)"
   ]
  },
  {
   "cell_type": "code",
   "execution_count": 9,
   "metadata": {},
   "outputs": [
    {
     "name": "stdout",
     "output_type": "stream",
     "text": [
      "['Hello,hello!']\n"
     ]
    }
   ],
   "source": [
    "text=\"Hello,hello!\"\n",
    "pattern=r'\\S+'\n",
    "\n",
    "match=re.findall(pattern,text)\n",
    "print(match)"
   ]
  },
  {
   "cell_type": "code",
   "execution_count": 10,
   "metadata": {},
   "outputs": [
    {
     "name": "stdout",
     "output_type": "stream",
     "text": [
      "[]\n"
     ]
    }
   ],
   "source": [
    "text=\"Hello,hello!\"\n",
    "pattern=r'\\s+'\n",
    "\n",
    "match=re.findall(pattern,text)\n",
    "print(match)"
   ]
  },
  {
   "cell_type": "code",
   "execution_count": 11,
   "metadata": {},
   "outputs": [
    {
     "name": "stdout",
     "output_type": "stream",
     "text": [
      ",\n",
      "!, \n"
     ]
    }
   ],
   "source": [
    "text=\"Hello,hello! 123\"\n",
    "pattern=r'\\W+'\n",
    "\n",
    "matches=re.findall(pattern,text)\n",
    "for i in matches:\n",
    "    print(','.join(i))"
   ]
  },
  {
   "cell_type": "code",
   "execution_count": 12,
   "metadata": {},
   "outputs": [
    {
     "name": "stdout",
     "output_type": "stream",
     "text": [
      "H,e,l,l,o\n",
      "h,e,l,l,o\n",
      "1,2,3\n"
     ]
    }
   ],
   "source": [
    "text=\"Hello,hello! 123\"\n",
    "pattern=r'\\w+'\n",
    "\n",
    "matches=re.findall(pattern,text)\n",
    "for i in matches:\n",
    "    print(','.join(i))"
   ]
  },
  {
   "cell_type": "code",
   "execution_count": 13,
   "metadata": {},
   "outputs": [
    {
     "name": "stdout",
     "output_type": "stream",
     "text": [
      "GeeksforGeeks: <re.Match object; span=(8, 13), match='Geeks'>\n"
     ]
    }
   ],
   "source": [
    "print('GeeksforGeeks:',re.search(r'\\BGeeks\\b','GeeksforGeeks'))"
   ]
  },
  {
   "cell_type": "code",
   "execution_count": 14,
   "metadata": {},
   "outputs": [
    {
     "name": "stdout",
     "output_type": "stream",
     "text": [
      "sathya.baba001@gmail.com\n"
     ]
    }
   ],
   "source": [
    "s=\"sathya.baba001@gmail.com\"\n",
    "match=re.search(r'[\\w.]+@[\\w.]+',s)\n",
    "if match:\n",
    "    print(match.group())\n",
    "else:\n",
    "    print(\"match not found\")"
   ]
  },
  {
   "cell_type": "code",
   "execution_count": 15,
   "metadata": {},
   "outputs": [
    {
     "name": "stdout",
     "output_type": "stream",
     "text": [
      "sathya.baba001@gmail.com\n",
      "sathya.baba001\n",
      "gmail.com\n"
     ]
    }
   ],
   "source": [
    "s=\"sathya.baba001@gmail.com\"\n",
    "match=re.search(r'([\\w.-]+)@([\\w.-]+)',s)\n",
    "if match:\n",
    "    print(match.group())\n",
    "    print(match.group(1))\n",
    "    print(match.group(2))\n"
   ]
  },
  {
   "cell_type": "code",
   "execution_count": 16,
   "metadata": {},
   "outputs": [
    {
     "name": "stdout",
     "output_type": "stream",
     "text": [
      "['hello', 'hello']\n",
      "Any Character <re.Match object; span=(9, 15), match='scienc'>\n"
     ]
    }
   ],
   "source": [
    "text=\"hello hello\"\n",
    "pattern=r\"h.llo\"\n",
    "match=re.findall(pattern,text)\n",
    "print(match)\n",
    "print('Any Character',re.search(r's.i.nc','Computer science portal-GreeksofGreeks'))"
   ]
  },
  {
   "cell_type": "code",
   "execution_count": 17,
   "metadata": {},
   "outputs": [
    {
     "name": "stdout",
     "output_type": "stream",
     "text": [
      "<built-in method group of re.Match object at 0x000001D668003CC0>\n",
      "Begg.of String: <re.Match object; span=(21, 26), match='Month'>\n",
      "Begg.of String: <re.Match object; span=(0, 6), match='Greeks'>\n"
     ]
    }
   ],
   "source": [
    "text=\"hello world\"\n",
    "pattern=r\"^hello\"\n",
    "match=re.search(pattern,text)\n",
    "print(match.group)\n",
    "match=re.search(r'Month$','campus Greeks of the Month')\n",
    "print('Begg.of String:',match)\n",
    "match=re.search(r'^Greeks','Greeks of the Month')\n",
    "print('Begg.of String:',match)"
   ]
  },
  {
   "cell_type": "code",
   "execution_count": 18,
   "metadata": {},
   "outputs": [
    {
     "name": "stdout",
     "output_type": "stream",
     "text": [
      "<built-in method group of re.Match object at 0x000001D668001EC0>\n",
      "End of String: ['Greeks']\n"
     ]
    }
   ],
   "source": [
    "text=\"hello world\"\n",
    "pattern=r\"world$\"\n",
    "match=re.search(pattern,text)\n",
    "print(match.group)\n",
    "match=re.findall(r'Greeks$','computer science portal-GreeksofGreeks')\n",
    "print('End of String:',match)"
   ]
  },
  {
   "cell_type": "code",
   "execution_count": 19,
   "metadata": {},
   "outputs": [
    {
     "name": "stdout",
     "output_type": "stream",
     "text": [
      "heeeello\n"
     ]
    }
   ],
   "source": [
    "text=\"heeeello\"\n",
    "pattern=r\"he*llo\"\n",
    "match=re.search(pattern,text)\n",
    "print(match.group())"
   ]
  },
  {
   "cell_type": "code",
   "execution_count": 20,
   "metadata": {},
   "outputs": [
    {
     "name": "stdout",
     "output_type": "stream",
     "text": [
      "<re.Match object; span=(0, 5), match='hello'>\n"
     ]
    }
   ],
   "source": [
    "text=\"hello\"\n",
    "pattern=r\"hel+o\"\n",
    "match=re.search(pattern,text)\n",
    "print(match)"
   ]
  },
  {
   "cell_type": "code",
   "execution_count": 21,
   "metadata": {},
   "outputs": [
    {
     "name": "stdout",
     "output_type": "stream",
     "text": [
      "<re.Match object; span=(0, 5), match='hello'>\n"
     ]
    }
   ],
   "source": [
    "text=\"hello\"\n",
    "pattern=r\"he?llo\"\n",
    "match=re.search(pattern,text)\n",
    "print(match)"
   ]
  },
  {
   "cell_type": "code",
   "execution_count": 22,
   "metadata": {},
   "outputs": [
    {
     "name": "stdout",
     "output_type": "stream",
     "text": [
      "$5\n"
     ]
    }
   ],
   "source": [
    "text=\"Do You Have $5\"\n",
    "pattern=r\"\\$5\"\n",
    "match=re.search(pattern,text)\n",
    "print(match.group())"
   ]
  },
  {
   "cell_type": "code",
   "execution_count": 23,
   "metadata": {},
   "outputs": [
    {
     "name": "stdout",
     "output_type": "stream",
     "text": [
      "['ppl']\n"
     ]
    }
   ],
   "source": [
    "text=\"abc apple banana cherry\"\n",
    "pattern=r\"[pl]+\"\n",
    "match=re.findall(pattern,text)\n",
    "print(match)"
   ]
  },
  {
   "cell_type": "code",
   "execution_count": 24,
   "metadata": {},
   "outputs": [
    {
     "name": "stdout",
     "output_type": "stream",
     "text": [
      "['H', 'W']\n"
     ]
    }
   ],
   "source": [
    "text=\"Hello World\"\n",
    "pattern=r\"[A-Z]+\"\n",
    "match=re.findall(pattern,text)\n",
    "print(match)"
   ]
  },
  {
   "cell_type": "code",
   "execution_count": 25,
   "metadata": {},
   "outputs": [
    {
     "name": "stdout",
     "output_type": "stream",
     "text": [
      "['ello', 'orld']\n"
     ]
    }
   ],
   "source": [
    "text=\"Hello World\"\n",
    "pattern=r\"[a-z]+\"\n",
    "match=re.findall(pattern,text)\n",
    "print(match)"
   ]
  },
  {
   "cell_type": "code",
   "execution_count": 26,
   "metadata": {},
   "outputs": [
    {
     "name": "stdout",
     "output_type": "stream",
     "text": [
      "['12364564789']\n"
     ]
    }
   ],
   "source": [
    "text=\"12364564789\"\n",
    "pattern=r\"[0-9]+\"\n",
    "match=re.findall(pattern,text)\n",
    "print(match)"
   ]
  },
  {
   "cell_type": "code",
   "execution_count": 27,
   "metadata": {},
   "outputs": [
    {
     "name": "stdout",
     "output_type": "stream",
     "text": [
      "['1', '2', '3', '6', '4', '5', '6', '4', '7', '8', '9']\n"
     ]
    }
   ],
   "source": [
    "text=\"12364564789\"\n",
    "pattern=r\"[0-9]\"\n",
    "match=re.findall(pattern,text)\n",
    "print(match)"
   ]
  },
  {
   "cell_type": "code",
   "execution_count": 28,
   "metadata": {},
   "outputs": [
    {
     "data": {
      "text/plain": [
       "['abc123XYZ']"
      ]
     },
     "execution_count": 28,
     "metadata": {},
     "output_type": "execute_result"
    }
   ],
   "source": [
    "re.findall(r'[A-Za-z0-9]+','abc123XYZ')"
   ]
  },
  {
   "cell_type": "code",
   "execution_count": 29,
   "metadata": {},
   "outputs": [
    {
     "name": "stdout",
     "output_type": "stream",
     "text": [
      "[' b', 'n', 'n', ' ch', 'rry']\n"
     ]
    }
   ],
   "source": [
    "text=\"apple banana cherry\"\n",
    "pattern=r\"[^apple]+\"\n",
    "match=re.findall(pattern,text)\n",
    "print(match)"
   ]
  },
  {
   "cell_type": "code",
   "execution_count": 30,
   "metadata": {},
   "outputs": [
    {
     "name": "stdout",
     "output_type": "stream",
     "text": [
      "[' ', 'b', 'n', 'n', ' ', 'c', 'h', 'r', 'r', 'y']\n"
     ]
    }
   ],
   "source": [
    "text=\"apple banana cherry\"\n",
    "pattern=r\"[^apple]\"\n",
    "match=re.findall(pattern,text)\n",
    "print(match)"
   ]
  },
  {
   "cell_type": "code",
   "execution_count": 31,
   "metadata": {},
   "outputs": [
    {
     "name": "stdout",
     "output_type": "stream",
     "text": [
      "['helooo']\n"
     ]
    }
   ],
   "source": [
    "text=\"helooooo\"\n",
    "pattern=r\"helo{3}\"\n",
    "match=re.findall(pattern,text)\n",
    "print(match)"
   ]
  },
  {
   "cell_type": "code",
   "execution_count": 32,
   "metadata": {},
   "outputs": [
    {
     "name": "stdout",
     "output_type": "stream",
     "text": [
      "['helooooo']\n"
     ]
    }
   ],
   "source": [
    "text=\"helooooo\"\n",
    "pattern=r\"helo{3,}\"\n",
    "match=re.findall(pattern,text)\n",
    "print(match)"
   ]
  },
  {
   "cell_type": "code",
   "execution_count": 33,
   "metadata": {},
   "outputs": [
    {
     "name": "stdout",
     "output_type": "stream",
     "text": [
      "['123']\n"
     ]
    }
   ],
   "source": [
    "text=\"helooooo 123\"\n",
    "pattern=r\"\\d{3}\"\n",
    "match=re.findall(pattern,text)\n",
    "print(match)"
   ]
  },
  {
   "cell_type": "code",
   "execution_count": 34,
   "metadata": {},
   "outputs": [
    {
     "name": "stdout",
     "output_type": "stream",
     "text": [
      "['ooooo']\n"
     ]
    }
   ],
   "source": [
    "text=\"helooooo\"\n",
    "pattern=r\"o{3,5}\"\n",
    "match=re.findall(pattern,text)\n",
    "print(match)"
   ]
  },
  {
   "cell_type": "code",
   "execution_count": 35,
   "metadata": {},
   "outputs": [
    {
     "name": "stdout",
     "output_type": "stream",
     "text": [
      "['color', 'colour']\n"
     ]
    }
   ],
   "source": [
    "text=\"color or colour\"\n",
    "pattern=r\"colou?r\"\n",
    "match=re.findall(pattern,text)\n",
    "print(match)"
   ]
  },
  {
   "cell_type": "code",
   "execution_count": 36,
   "metadata": {},
   "outputs": [
    {
     "name": "stdout",
     "output_type": "stream",
     "text": [
      "03-01-2025\n",
      "['Today', 'Friday']\n"
     ]
    }
   ],
   "source": [
    "match=re.search(r'[\\d]{2}-[\\d]{2}-[\\d]{4}','Today is 03-01-2025,Friday')\n",
    "match1=re.findall(r'[A-Za-z]+day\\b','Today is 03-01-2025,Friday')\n",
    "print(match.group())\n",
    "print(match1)"
   ]
  },
  {
   "cell_type": "code",
   "execution_count": 37,
   "metadata": {},
   "outputs": [
    {
     "name": "stdout",
     "output_type": "stream",
     "text": [
      "08\n",
      "{'dd': '26', 'mm': '08', 'yyyy': '2020'}\n"
     ]
    }
   ],
   "source": [
    "match=re.search(r'(?P<dd>[\\d]{2})-(?P<mm>[\\d]{2})-(?P<yyyy>[\\d]{4})','26-08-2020')\n",
    "print(match.group('mm'))\n",
    "print(match.groupdict())"
   ]
  },
  {
   "cell_type": "code",
   "execution_count": 38,
   "metadata": {},
   "outputs": [
    {
     "name": "stdout",
     "output_type": "stream",
     "text": [
      "26-08-2020\n"
     ]
    }
   ],
   "source": [
    "match=re.search(r'\\b\\d{2}-\\d{2}-\\d{4}','26-08-2020')\n",
    "if match:\n",
    "    print(match.group())"
   ]
  },
  {
   "cell_type": "code",
   "execution_count": 39,
   "metadata": {},
   "outputs": [
    {
     "name": "stdout",
     "output_type": "stream",
     "text": [
      "['201305']\n"
     ]
    }
   ],
   "source": [
    "print(re.findall(r'[\\d]{6}','5Th Floor ,A-118,\\sector-126,Noda,utter pradesh-201305'))"
   ]
  },
  {
   "cell_type": "code",
   "execution_count": 40,
   "metadata": {},
   "outputs": [
    {
     "name": "stdout",
     "output_type": "stream",
     "text": [
      "['e', 'o', 'n', 'fo', 'j', 'm', 'o', 'e', 'h', 'la', 'dog']\n"
     ]
    }
   ],
   "source": [
    "p=re.compile('[a-o]++')\n",
    "print(p.findall(\"Aye, Brown fox jumps over thr lazy dog\"))"
   ]
  },
  {
   "cell_type": "code",
   "execution_count": 41,
   "metadata": {},
   "outputs": [
    {
     "name": "stdout",
     "output_type": "stream",
     "text": [
      "['11', '4', '1863']\n"
     ]
    }
   ],
   "source": [
    "p=re.compile('\\d+')\n",
    "print(p.findall(\"I went to him at 11 A.M on 4Th july 1863\"))"
   ]
  },
  {
   "cell_type": "code",
   "execution_count": 42,
   "metadata": {},
   "outputs": [
    {
     "name": "stdout",
     "output_type": "stream",
     "text": [
      "['I', 'went', 'to', 'him', 'at', '11', 'A', 'M', 'he', 'said', 'in', 'some_language']\n"
     ]
    }
   ],
   "source": [
    "p=re.compile('\\w+')\n",
    "print(p.findall(\"I went to him at 11 A.M.,he \\said *** in some_language\"))"
   ]
  },
  {
   "cell_type": "code",
   "execution_count": 43,
   "metadata": {},
   "outputs": [
    {
     "name": "stdout",
     "output_type": "stream",
     "text": [
      "['Sathya.baba001@gmail.com']\n"
     ]
    }
   ],
   "source": [
    "email_pattern=r'[a-zA-Z0-9.-]+@[a-zA-Z0-9.-]+\\.[a-zA-Z]{2,}'\n",
    "email_pattern=r'[\\w.-]+@[\\w.-]+'\n",
    "test_string=\"Plase contant us at Sathya.baba001@gmail.com for further assistacne.\"\n",
    "match=re.findall(email_pattern,test_string)\n",
    "print(match)"
   ]
  },
  {
   "cell_type": "code",
   "execution_count": 44,
   "metadata": {},
   "outputs": [
    {
     "name": "stdout",
     "output_type": "stream",
     "text": [
      "['The', 'rain', 'in', 'blr']\n"
     ]
    }
   ],
   "source": [
    "text=\"The rain in blr\"\n",
    "x=re.split(r\"\\s\",text)\n",
    "print(x)"
   ]
  },
  {
   "cell_type": "code",
   "execution_count": 45,
   "metadata": {},
   "outputs": [
    {
     "name": "stdout",
     "output_type": "stream",
     "text": [
      "['Twelve:', ' Eight nine:', '.']\n"
     ]
    }
   ],
   "source": [
    "string='Twelve:12 Eight nine:89.'\n",
    "pattern='\\d+\\w'\n",
    "result =re.split(pattern,string)\n",
    "print(result)"
   ]
  },
  {
   "cell_type": "code",
   "execution_count": 46,
   "metadata": {},
   "outputs": [
    {
     "name": "stdout",
     "output_type": "stream",
     "text": [
      "['Regular', 'expression', 'can', 'incude', 'literal', 'characture']\n"
     ]
    }
   ],
   "source": [
    "z='Regular expression can incude literal characture'\n",
    "x=re.split(r\"\\s\",z)\n",
    "print(x)"
   ]
  },
  {
   "cell_type": "code",
   "execution_count": 47,
   "metadata": {},
   "outputs": [
    {
     "name": "stdout",
     "output_type": "stream",
     "text": [
      "The9King9in9the9North9claims9he9is9worthy\n"
     ]
    }
   ],
   "source": [
    "text=\"The King in the North claims he is worthy\"\n",
    "x=re.sub(r\"\\s\",\"9\",text)\n",
    "print(x)"
   ]
  },
  {
   "cell_type": "code",
   "execution_count": 48,
   "metadata": {},
   "outputs": [
    {
     "name": "stdout",
     "output_type": "stream",
     "text": [
      "1111222233334444\n"
     ]
    }
   ],
   "source": [
    "print(re.sub(r'([\\d]{4})-([\\d]{4})-([\\d]{4})-([\\d]{4})',r'\\1\\2\\3\\4','1111-2222-3333-4444'))"
   ]
  },
  {
   "cell_type": "code",
   "execution_count": 49,
   "metadata": {},
   "outputs": [
    {
     "name": "stdout",
     "output_type": "stream",
     "text": [
      "The9King9in9the9North claims he is worthy\n"
     ]
    }
   ],
   "source": [
    "text=\"The King in the North claims he is worthy\"\n",
    "x=re.sub(r\"\\s\",\"9\",text,4)\n",
    "print(x)"
   ]
  },
  {
   "cell_type": "code",
   "execution_count": 50,
   "metadata": {},
   "outputs": [
    {
     "name": "stdout",
     "output_type": "stream",
     "text": [
      "phone Num: 2004-959-559 \n",
      "phone Num:  2004959559\n"
     ]
    }
   ],
   "source": [
    "phone=\"2004-959-559 # this is phone number\"\n",
    "num=re.sub(r'#.*$',\"\",phone)\n",
    "print(\"phone Num:\",num)\n",
    "\n",
    "num=re.sub(r'\\D',\"\",phone)\n",
    "print(\"phone Num: \",num)"
   ]
  },
  {
   "cell_type": "code",
   "execution_count": 51,
   "metadata": {},
   "outputs": [
    {
     "name": "stdout",
     "output_type": "stream",
     "text": [
      "('~* has Uber booked Already', 1)\n",
      "('S~*ject has ~*er booked already', 2)\n"
     ]
    }
   ],
   "source": [
    "print(re.subn('Subject','~*','Subject has Uber booked Already'))\n",
    "t=re.subn('Ub','~*','Subject has Uber booked already',flags=re.IGNORECASE)\n",
    "print(t)"
   ]
  },
  {
   "cell_type": "code",
   "execution_count": 52,
   "metadata": {},
   "outputs": [
    {
     "name": "stdout",
     "output_type": "stream",
     "text": [
      "('abcThe King in the North claims he is worthy12\\\\The King in the North claims he is worthydeThe King in the North claims he is worthy23The King in the North claims he is worthyf45The King in the North claims he is worthy6', 5)\n"
     ]
    }
   ],
   "source": [
    "string='abc 12\\ de 23 \\n f45 6'\n",
    "pattern='\\s+'\n",
    "replace=' '\n",
    "new_string=re.subn(pattern,text,string)\n",
    "print(new_string)"
   ]
  },
  {
   "cell_type": "code",
   "execution_count": 53,
   "metadata": {},
   "outputs": [
    {
     "name": "stdout",
     "output_type": "stream",
     "text": [
      "This\\ is\\ Awesome\\ even\\ 1AM\n"
     ]
    }
   ],
   "source": [
    "print(re.escape(\"This is Awesome even 1AM\"))"
   ]
  },
  {
   "cell_type": "code",
   "execution_count": 54,
   "metadata": {},
   "outputs": [
    {
     "name": "stdout",
     "output_type": "stream",
     "text": [
      "I\\ Asked\\ what\\ is\\ this\\ \\[0\\-9\\],he\\ asid\\ \\\t\\ \\^wow\n"
     ]
    }
   ],
   "source": [
    "print(re.escape(\"I Asked what is this [0-9],he asid \\t ^wow\"))"
   ]
  },
  {
   "cell_type": "code",
   "execution_count": 55,
   "metadata": {},
   "outputs": [
    {
     "name": "stdout",
     "output_type": "stream",
     "text": [
      "pattern: Price:\\$100\\.00\n",
      "Match did not found\n"
     ]
    }
   ],
   "source": [
    "pattern=re.escape(\"Price:$100.00\")\n",
    "text=\"the total cost is price:$100.00.\"\n",
    "match=re.search(pattern,text)\n",
    "print(\"pattern:\",pattern)\n",
    "if match:\n",
    "    print(\"Match found:\",match.group())\n",
    "else:\n",
    "    print(\"Match did not found\")"
   ]
  },
  {
   "cell_type": "code",
   "execution_count": 56,
   "metadata": {},
   "outputs": [],
   "source": [
    "text = '''\n",
    "Note 1 - Overview\n",
    "Tesla, Inc. (“Tesla”, the “Company”, “we”, “us” or “our”) was incorporated in the State \n",
    "products. Our Chief Executive Officer, as the chief operating decision maker (“CODM”), o\n",
    "Beginning in the first quarter of 2021, there has been a trend in many parts of the worl\n",
    "against COVID-19, as well as an easing of restrictions on social, business, travel and g\n",
    "rates and regulations continue to fluctuate in various regions and there are ongoing glo\n",
    "and increases in costs for logistics and supply chains, such as increased port congestio\n",
    "supply. We have also previously been affected by temporary manufacturing closures, emplo\n",
    "administrative activities supporting our product deliveries and deployments.\n",
    "Note 2 - Summary of Significant Accounting Policies\n",
    "Unaudited Interim Financial Statements\n",
    "The consolidated balance sheet as of September 30, 2021, the consolidated statements of \n",
    "comprehensive income, the consolidated statements of redeemable noncontrolling interests\n",
    "30, 2021 and 2020 and the consolidated statements of cash flows for the nine months ende\n",
    "disclosed in the accompanying notes, are unaudited. The consolidated balance sheet as of\n",
    "consolidated financial statements as of that date. The interim consolidated financial st\n",
    "conjunction with the annual consolidated financial statements and the accompanying notes\n",
    "ended December 31, 2020.\n",
    "'''"
   ]
  },
  {
   "cell_type": "code",
   "execution_count": 57,
   "metadata": {},
   "outputs": [],
   "source": [
    "import re"
   ]
  },
  {
   "cell_type": "code",
   "execution_count": 58,
   "metadata": {},
   "outputs": [
    {
     "data": {
      "text/plain": [
       "['Note 1 - Overview', 'Note 2 - Summary of Significant Accounting Policies']"
      ]
     },
     "execution_count": 58,
     "metadata": {},
     "output_type": "execute_result"
    }
   ],
   "source": [
    "pattern = \"Note \\d - [^\\n]+\"\n",
    "re.findall(pattern, text)"
   ]
  },
  {
   "cell_type": "code",
   "execution_count": 59,
   "metadata": {},
   "outputs": [
    {
     "data": {
      "text/plain": [
       "['1', '2021', '19', '2', '30', '2021', '30', '2021', '2020', '31', '2020']"
      ]
     },
     "execution_count": 59,
     "metadata": {},
     "output_type": "execute_result"
    }
   ],
   "source": [
    "pattern = \"\\d+\"\n",
    "re.findall(pattern, text)"
   ]
  },
  {
   "cell_type": "code",
   "execution_count": 60,
   "metadata": {},
   "outputs": [
    {
     "data": {
      "text/plain": [
       "['2021', '2021', '2021', '2020', '2020']"
      ]
     },
     "execution_count": 60,
     "metadata": {},
     "output_type": "execute_result"
    }
   ],
   "source": [
    "pattern = \"\\d{4}+\"\n",
    "re.findall(pattern, text)"
   ]
  },
  {
   "cell_type": "code",
   "execution_count": 61,
   "metadata": {},
   "outputs": [
    {
     "data": {
      "text/plain": [
       "['September 30, 2021', 'December 31, 2020']"
      ]
     },
     "execution_count": 61,
     "metadata": {},
     "output_type": "execute_result"
    }
   ],
   "source": [
    "pattern = \"\\w+ \\d{2}+, \\d{4}\"\n",
    "re.findall(pattern, text)"
   ]
  },
  {
   "cell_type": "code",
   "execution_count": 62,
   "metadata": {},
   "outputs": [
    {
     "name": "stdout",
     "output_type": "stream",
     "text": [
      "{'Email': ['nAstw@outlook.com', 'Au2LGKWdGY@gmail.com', '0nasoeaaw4@gmail.com', 'czoyzVFpja@outlook.com', '9XFRwx4@outlook.com', 'CU57VTn8h@outlook.com', 'tx0f3Jcv@gmail.com', 'lpNiviwTNM@outlook.com', 'PmxkL@outlook.com', 'py0UK@outlook.com', 'vAL0L@gmail.com', 'iToQn@hotmail.com', 'X604SE@gmail.com', 'QIWKlGik8i@outlook.com', 'gmWbz9EUh5@outlook.com', 'SHWXFxL7S@hotmail.com', 'TXj8O7fj@yahoo.com', '1gcFW3UgXX@hotmail.com', 'sZBSRYY7m@outlook.com', 'ifxiWMlmX@hotmail.com', 'jxpTu@gmail.com', '19Qdc77Ynj@yahoo.com', 'VOSfbvF@outlook.com', '8yKXe@gmail.com', 'Due8G@outlook.com', 'OucwwY@outlook.com', '3TYW5BzK@outlook.com', 'ZDLZmB@yahoo.com', 'ODXACm@outlook.com', 'sqR2II@gmail.com', '6aYiKy@gmail.com', 'XnpmaOYjp7@yahoo.com', '3scvKTekL2@outlook.com', 'wMa0sn2@outlook.com', 'Digt5Q@gmail.com', '2Ks4bT@gmail.com', 'IMvNl7iMO@yahoo.com', 'SBeUE@gmail.com', 'T182TgDc@yahoo.com', 'Ta5T26B@gmail.com', '4amMLRsBY@gmail.com', 'F6dyUvcE8v@yahoo.com', 'nGa3Zsr1@gmail.com', 'mbzdr@outlook.com', 'lSYLayiZ4@outlook.com', 'tILMc3xA@gmail.com', 'UYXpMW0lu@gmail.com', '3N3J74MNM@hotmail.com', 'UG8Ky5Q5@hotmail.com', 'QqJiV@hotmail.com'], 'Ph_No': ['+91-9328007805', '+91-7050038054', '+91-7325144231', '+91-8610638284', '+91-8858221596', '+91-7035921276', '+91-9843513027', '+91-7031644384', '+91-9673962500', '+91-7238584311', '+91-7365402497', '+91-8873583904', '+91-9512045269', '+91-8082730318', '+91-8099507951', '+91-9588056931', '+91-8269262531', '+91-9715654185', '+91-9277495006', '+91-9648363060', '+91-9417713649', '+91-8488671196', '+91-8190815664', '+91-7454790811', '+91-8262323505', '+91-8017866448', '+91-8849004676', '+91-9900313046', '+91-7658552582', '+91-9333856056', '+91-7202523823', '+91-8919315839', '+91-8698336675', '+91-8249799195', '+91-7090591031', '+91-8946470254', '+91-9017689458', '+91-7056280066', '+91-8303984365', '+91-8784598815', '+91-7901957980', '+91-9539763461', '+91-7238986861', '+91-9186034821', '+91-8728318334', '+91-9893273414', '+91-7552522582', '+91-7501596026', '+91-7449062201', '+91-9995808361'], 'Date': ['04-06-2000', '07-08-2030', '27-11-2030', '27-11-2004', '30-08-2028', '30-01-2020', '03-03-2007', '20-07-2003', '29-01-2024', '22-11-2009', '02-01-2005', '04-10-2030', '28-03-2007', '03-01-2004', '29-04-2027', '02-02-2012', '10-07-2001', '25-06-2024', '05-11-2007', '19-09-2000', '27-04-2001', '15-11-2011', '16-04-2022', '26-11-2019', '09-01-2021', '17-05-2003', '07-02-2005', '13-03-2018', '21-08-2010', '12-05-2011', '05-02-2000', '02-09-2030', '25-07-2012', '20-01-2003', '21-03-2025', '29-10-2006', '22-07-2023', '30-09-2023', '03-03-2001', '13-09-2008', '12-06-2003', '11-03-2025', '27-11-2029', '05-10-2020', '17-10-2000', '28-05-2015', '14-07-2002', '03-01-2011', '15-02-2008', '07-05-2013']}\n"
     ]
    }
   ],
   "source": [
    "import csv\n",
    "\n",
    "email_pattern = r\"[\\w.-]+@[\\w.-]+\"\n",
    "ph_pattern = r\"\\+91-\\d{10}\"\n",
    "date_pattern = r\"\\d{2}-\\d{2}-\\d{4}\"\n",
    "\n",
    "EPD = {'Email':[], 'Ph_No':[], 'Date':[]}\n",
    "\n",
    "\n",
    "with open(r\"C:\\Users\\adity\\Documents\\Python Script\\file handle\\data.txt\", 'r+') as file:\n",
    "    content = file.read()\n",
    "    EPD['Email'] = re.findall(email_pattern, content)\n",
    "    EPD['Ph_No'] = re.findall(ph_pattern, content)\n",
    "    EPD['Date'] = re.findall(date_pattern, content)\n",
    "    \n",
    "print(EPD)\n",
    "\n",
    "with open(\"EPD.csv\", 'w') as f:\n",
    "    writer = csv.writer(f)\n",
    "    writer.writerow(EPD.keys())\n",
    "    writer.writerows(zip(*EPD.values()))\n",
    "    "
   ]
  },
  {
   "cell_type": "code",
   "execution_count": 63,
   "metadata": {},
   "outputs": [
    {
     "name": "stdout",
     "output_type": "stream",
     "text": [
      "FY2021 Q1 -> $4.85 billion\n",
      "fy2020 Q4 -> $3 billion\n"
     ]
    }
   ],
   "source": [
    "text='''The gross cost of operting lease vechicles oin FY2021 Q1 was $4.85 billion.\n",
    "In previous quarter i.e. fy2020 Q4 it was $3 billion.\n",
    "'''\n",
    "pattern=\"FY\\d{4} Q[1-4]\"\n",
    "pattern1=\"\\$[\\d.]+ \\w+\"\n",
    "\n",
    "year= re.findall(pattern,text,flags=re.IGNORECASE)\n",
    "finance=re.findall(pattern1,text,flags=re.IGNORECASE)\n",
    "\n",
    "for i,j in zip(year,finance):\n",
    "    print(f\"{i} -> {j}\")"
   ]
  },
  {
   "cell_type": "code",
   "execution_count": 64,
   "metadata": {},
   "outputs": [
    {
     "name": "stdout",
     "output_type": "stream",
     "text": [
      "Emails:\n",
      "nAstw@outlook.com\n",
      "Au2LGKWdGY@gmail.com\n",
      "0nasoeaaw4@gmail.com\n",
      "czoyzVFpja@outlook.com\n",
      "9XFRwx4@outlook.com\n",
      "CU57VTn8h@outlook.com\n",
      "tx0f3Jcv@gmail.com\n",
      "lpNiviwTNM@outlook.com\n",
      "PmxkL@outlook.com\n",
      "py0UK@outlook.com\n",
      "vAL0L@gmail.com\n",
      "iToQn@hotmail.com\n",
      "X604SE@gmail.com\n",
      "QIWKlGik8i@outlook.com\n",
      "gmWbz9EUh5@outlook.com\n",
      "SHWXFxL7S@hotmail.com\n",
      "TXj8O7fj@yahoo.com\n",
      "1gcFW3UgXX@hotmail.com\n",
      "sZBSRYY7m@outlook.com\n",
      "ifxiWMlmX@hotmail.com\n",
      "jxpTu@gmail.com\n",
      "19Qdc77Ynj@yahoo.com\n",
      "VOSfbvF@outlook.com\n",
      "8yKXe@gmail.com\n",
      "Due8G@outlook.com\n",
      "OucwwY@outlook.com\n",
      "3TYW5BzK@outlook.com\n",
      "ZDLZmB@yahoo.com\n",
      "ODXACm@outlook.com\n",
      "sqR2II@gmail.com\n",
      "6aYiKy@gmail.com\n",
      "XnpmaOYjp7@yahoo.com\n",
      "3scvKTekL2@outlook.com\n",
      "wMa0sn2@outlook.com\n",
      "Digt5Q@gmail.com\n",
      "2Ks4bT@gmail.com\n",
      "IMvNl7iMO@yahoo.com\n",
      "SBeUE@gmail.com\n",
      "T182TgDc@yahoo.com\n",
      "Ta5T26B@gmail.com\n",
      "4amMLRsBY@gmail.com\n",
      "F6dyUvcE8v@yahoo.com\n",
      "nGa3Zsr1@gmail.com\n",
      "mbzdr@outlook.com\n",
      "lSYLayiZ4@outlook.com\n",
      "tILMc3xA@gmail.com\n",
      "UYXpMW0lu@gmail.com\n",
      "3N3J74MNM@hotmail.com\n",
      "UG8Ky5Q5@hotmail.com\n",
      "QqJiV@hotmail.com\n",
      "Phone Numbers:\n",
      "+91-9328007805\n",
      "+91-7050038054\n",
      "+91-7325144231\n",
      "+91-8610638284\n",
      "+91-8858221596\n",
      "+91-7035921276\n",
      "+91-9843513027\n",
      "+91-7031644384\n",
      "+91-9673962500\n",
      "+91-7238584311\n",
      "+91-7365402497\n",
      "+91-8873583904\n",
      "+91-9512045269\n",
      "+91-8082730318\n",
      "+91-8099507951\n",
      "+91-9588056931\n",
      "+91-8269262531\n",
      "+91-9715654185\n",
      "+91-9277495006\n",
      "+91-9648363060\n",
      "+91-9417713649\n",
      "+91-8488671196\n",
      "+91-8190815664\n",
      "+91-7454790811\n",
      "+91-8262323505\n",
      "+91-8017866448\n",
      "+91-8849004676\n",
      "+91-9900313046\n",
      "+91-7658552582\n",
      "+91-9333856056\n",
      "+91-7202523823\n",
      "+91-8919315839\n",
      "+91-8698336675\n",
      "+91-8249799195\n",
      "+91-7090591031\n",
      "+91-8946470254\n",
      "+91-9017689458\n",
      "+91-7056280066\n",
      "+91-8303984365\n",
      "+91-8784598815\n",
      "+91-7901957980\n",
      "+91-9539763461\n",
      "+91-7238986861\n",
      "+91-9186034821\n",
      "+91-8728318334\n",
      "+91-9893273414\n",
      "+91-7552522582\n",
      "+91-7501596026\n",
      "+91-7449062201\n",
      "+91-9995808361\n",
      "Dates:\n",
      "04-06-2000\n",
      "07-08-2030\n",
      "27-11-2030\n",
      "27-11-2004\n",
      "30-08-2028\n",
      "30-01-2020\n",
      "03-03-2007\n",
      "20-07-2003\n",
      "29-01-2024\n",
      "22-11-2009\n",
      "02-01-2005\n",
      "04-10-2030\n",
      "28-03-2007\n",
      "03-01-2004\n",
      "29-04-2027\n",
      "02-02-2012\n",
      "10-07-2001\n",
      "25-06-2024\n",
      "05-11-2007\n",
      "19-09-2000\n",
      "27-04-2001\n",
      "15-11-2011\n",
      "16-04-2022\n",
      "26-11-2019\n",
      "09-01-2021\n",
      "17-05-2003\n",
      "07-02-2005\n",
      "13-03-2018\n",
      "21-08-2010\n",
      "12-05-2011\n",
      "05-02-2000\n",
      "02-09-2030\n",
      "25-07-2012\n",
      "20-01-2003\n",
      "21-03-2025\n",
      "29-10-2006\n",
      "22-07-2023\n",
      "30-09-2023\n",
      "03-03-2001\n",
      "13-09-2008\n",
      "12-06-2003\n",
      "11-03-2025\n",
      "27-11-2029\n",
      "05-10-2020\n",
      "17-10-2000\n",
      "28-05-2015\n",
      "14-07-2002\n",
      "03-01-2011\n",
      "15-02-2008\n",
      "07-05-2013\n",
      "\n"
     ]
    }
   ],
   "source": [
    "\n",
    "import fitz\n",
    "pdf= fitz.open(r\"C:\\Users\\adity\\Documents\\Python Script\\file handle\\data.pdf\")\n",
    "\n",
    "text=''\n",
    "\n",
    "for page in pdf:\n",
    "    text += page.get_text()\n",
    "    \n",
    "print(text)"
   ]
  },
  {
   "cell_type": "code",
   "execution_count": 65,
   "metadata": {},
   "outputs": [],
   "source": [
    "#pip install pymupdf\n"
   ]
  },
  {
   "cell_type": "code",
   "execution_count": 66,
   "metadata": {},
   "outputs": [
    {
     "name": "stdout",
     "output_type": "stream",
     "text": [
      "{'Email': ['nAstw@outlook.com', 'Au2LGKWdGY@gmail.com', '0nasoeaaw4@gmail.com', 'czoyzVFpja@outlook.com', '9XFRwx4@outlook.com', 'CU57VTn8h@outlook.com', 'tx0f3Jcv@gmail.com', 'lpNiviwTNM@outlook.com', 'PmxkL@outlook.com', 'py0UK@outlook.com', 'vAL0L@gmail.com', 'iToQn@hotmail.com', 'X604SE@gmail.com', 'QIWKlGik8i@outlook.com', 'gmWbz9EUh5@outlook.com', 'SHWXFxL7S@hotmail.com', 'TXj8O7fj@yahoo.com', '1gcFW3UgXX@hotmail.com', 'sZBSRYY7m@outlook.com', 'ifxiWMlmX@hotmail.com', 'jxpTu@gmail.com', '19Qdc77Ynj@yahoo.com', 'VOSfbvF@outlook.com', '8yKXe@gmail.com', 'Due8G@outlook.com', 'OucwwY@outlook.com', '3TYW5BzK@outlook.com', 'ZDLZmB@yahoo.com', 'ODXACm@outlook.com', 'sqR2II@gmail.com', '6aYiKy@gmail.com', 'XnpmaOYjp7@yahoo.com', '3scvKTekL2@outlook.com', 'wMa0sn2@outlook.com', 'Digt5Q@gmail.com', '2Ks4bT@gmail.com', 'IMvNl7iMO@yahoo.com', 'SBeUE@gmail.com', 'T182TgDc@yahoo.com', 'Ta5T26B@gmail.com', '4amMLRsBY@gmail.com', 'F6dyUvcE8v@yahoo.com', 'nGa3Zsr1@gmail.com', 'mbzdr@outlook.com', 'lSYLayiZ4@outlook.com', 'tILMc3xA@gmail.com', 'UYXpMW0lu@gmail.com', '3N3J74MNM@hotmail.com', 'UG8Ky5Q5@hotmail.com', 'QqJiV@hotmail.com'], 'Ph_No': ['+91-9328007805', '+91-7050038054', '+91-7325144231', '+91-8610638284', '+91-8858221596', '+91-7035921276', '+91-9843513027', '+91-7031644384', '+91-9673962500', '+91-7238584311', '+91-7365402497', '+91-8873583904', '+91-9512045269', '+91-8082730318', '+91-8099507951', '+91-9588056931', '+91-8269262531', '+91-9715654185', '+91-9277495006', '+91-9648363060', '+91-9417713649', '+91-8488671196', '+91-8190815664', '+91-7454790811', '+91-8262323505', '+91-8017866448', '+91-8849004676', '+91-9900313046', '+91-7658552582', '+91-9333856056', '+91-7202523823', '+91-8919315839', '+91-8698336675', '+91-8249799195', '+91-7090591031', '+91-8946470254', '+91-9017689458', '+91-7056280066', '+91-8303984365', '+91-8784598815', '+91-7901957980', '+91-9539763461', '+91-7238986861', '+91-9186034821', '+91-8728318334', '+91-9893273414', '+91-7552522582', '+91-7501596026', '+91-7449062201', '+91-9995808361'], 'Date': ['04-06-2000', '07-08-2030', '27-11-2030', '27-11-2004', '30-08-2028', '30-01-2020', '03-03-2007', '20-07-2003', '29-01-2024', '22-11-2009', '02-01-2005', '04-10-2030', '28-03-2007', '03-01-2004', '29-04-2027', '02-02-2012', '10-07-2001', '25-06-2024', '05-11-2007', '19-09-2000', '27-04-2001', '15-11-2011', '16-04-2022', '26-11-2019', '09-01-2021', '17-05-2003', '07-02-2005', '13-03-2018', '21-08-2010', '12-05-2011', '05-02-2000', '02-09-2030', '25-07-2012', '20-01-2003', '21-03-2025', '29-10-2006', '22-07-2023', '30-09-2023', '03-03-2001', '13-09-2008', '12-06-2003', '11-03-2025', '27-11-2029', '05-10-2020', '17-10-2000', '28-05-2015', '14-07-2002', '03-01-2011', '15-02-2008', '07-05-2013']}\n"
     ]
    }
   ],
   "source": [
    "import csv\n",
    "\n",
    "email_pattern = r\"[\\w.-]+@[\\w.-]+\"\n",
    "ph_pattern = r\"\\+91-\\d{10}\"\n",
    "date_pattern = r\"\\d{2}-\\d{2}-\\d{4}\"\n",
    "\n",
    "EPD = {'Email':[], 'Ph_No':[], 'Date':[]}\n",
    "\n",
    "\n",
    "EPD['Email'] = re.findall(email_pattern, text)\n",
    "EPD['Ph_No'] = re.findall(ph_pattern, text)    \n",
    "EPD['Date'] = re.findall(date_pattern, text)\n",
    "    \n",
    "print(EPD)\n",
    "\n",
    "with open(\"EPD1.csv\", 'w') as f:\n",
    "    writer = csv.writer(f)\n",
    "    writer.writerow(EPD.keys())\n",
    "    writer.writerows(zip(*EPD.values()))\n",
    "    "
   ]
  },
  {
   "cell_type": "code",
   "execution_count": 67,
   "metadata": {},
   "outputs": [],
   "source": [
    "mixed_strings=[\n",
    "    \"test@example.com\",\n",
    "    \"(123)-456-7890\",\n",
    "    \"Start this string\",\n",
    "    \"This string ends with End\",\n",
    "    \"123456789\",\n",
    "    \"Contains whitespace\",\n",
    "    \"pretest and posttest\",\n",
    "    \"@#$%^&\",\n",
    "    \"5This does not start with a digit\",\n",
    "    \"NOWhitespaceHere\"\n",
    "]"
   ]
  },
  {
   "cell_type": "code",
   "execution_count": 68,
   "metadata": {},
   "outputs": [
    {
     "name": "stdout",
     "output_type": "stream",
     "text": [
      "Email Address: ['test@example.com']\n"
     ]
    }
   ],
   "source": [
    "email_pattern=r\"[\\w.-]+@[\\w.-]+\"\n",
    "\n",
    "emails=[]\n",
    "for s in  mixed_strings:\n",
    "    if re.search(email_pattern,s):\n",
    "        emails.append(s)\n",
    "        \n",
    "print(\"Email Address:\",emails)"
   ]
  },
  {
   "cell_type": "code",
   "execution_count": 69,
   "metadata": {},
   "outputs": [
    {
     "name": "stdout",
     "output_type": "stream",
     "text": [
      "Phone Numbera: ['(123)-456-7890']\n"
     ]
    }
   ],
   "source": [
    "ph_pattern = r\"\\(\\d{3}\\)-\\d{3}-\\d{4}\"\n",
    "\n",
    "phone=[]\n",
    "for s in  mixed_strings:\n",
    "    if re.search(ph_pattern,s):\n",
    "        phone.append(s)\n",
    "        \n",
    "print(\"Phone Numbera:\",phone)"
   ]
  },
  {
   "cell_type": "code",
   "execution_count": 70,
   "metadata": {},
   "outputs": [
    {
     "name": "stdout",
     "output_type": "stream",
     "text": [
      "String anding with 'End': ['This string ends with End']\n"
     ]
    }
   ],
   "source": [
    "end_pattern = r\"End\\Z\"\n",
    "\n",
    "ends_with_pattern=[]\n",
    "for s in  mixed_strings:\n",
    "    if re.search(end_pattern,s):\n",
    "        ends_with_pattern.append(s)\n",
    "        \n",
    "print(\"String anding with 'End':\",ends_with_pattern)"
   ]
  },
  {
   "cell_type": "code",
   "execution_count": 71,
   "metadata": {},
   "outputs": [
    {
     "name": "stdout",
     "output_type": "stream",
     "text": [
      "String with only digits: ['123456789']\n"
     ]
    }
   ],
   "source": [
    "digits_pattern = r\"\\d{6}+\"\n",
    "\n",
    "only_digits=[]\n",
    "for s in  mixed_strings:\n",
    "    if re.search(digits_pattern,s):\n",
    "        only_digits.append(s)\n",
    "        \n",
    "print(\"String with only digits:\",only_digits)"
   ]
  },
  {
   "cell_type": "code",
   "execution_count": 72,
   "metadata": {},
   "outputs": [
    {
     "name": "stdout",
     "output_type": "stream",
     "text": [
      "String containg whitespace: ['Start this string', 'This string ends with End', 'Contains whitespace', 'pretest and posttest', '5This does not start with a digit']\n"
     ]
    }
   ],
   "source": [
    "whitespace_pattern = r\"\\s\"\n",
    "\n",
    "contains_whitespace=[]\n",
    "for s in  mixed_strings:\n",
    "    if re.search(whitespace_pattern,s):\n",
    "        contains_whitespace.append(s)\n",
    "        \n",
    "print(\"String containg whitespace:\",contains_whitespace)"
   ]
  },
  {
   "cell_type": "code",
   "execution_count": 73,
   "metadata": {},
   "outputs": [
    {
     "name": "stdout",
     "output_type": "stream",
     "text": [
      "String with non-alphanumerical character: ['@#$%^&']\n"
     ]
    }
   ],
   "source": [
    "non_alphanumeric_pattern = r\"^\\W+$\"\n",
    "\n",
    "non_alphanumeric=[]\n",
    "for s in  mixed_strings:\n",
    "    if re.search(non_alphanumeric_pattern,s):\n",
    "        non_alphanumeric.append(s)\n",
    "        \n",
    "print(\"String with non-alphanumerical character:\",non_alphanumeric)"
   ]
  },
  {
   "cell_type": "code",
   "execution_count": 74,
   "metadata": {},
   "outputs": [
    {
     "name": "stdout",
     "output_type": "stream",
     "text": [
      "String that do not start with digit: ['test@example.com', '(123)-456-7890', 'Start this string', 'This string ends with End', 'Contains whitespace', 'pretest and posttest', '@#$%^&', 'NOWhitespaceHere']\n"
     ]
    }
   ],
   "source": [
    "not_start_digit_patterns = r\"^\\D\"\n",
    "\n",
    "not_digit=[]\n",
    "for s in  mixed_strings:\n",
    "    if re.search(not_start_digit_patterns,s):\n",
    "        not_digit.append(s)\n",
    "        \n",
    "print(\"String that do not start with digit:\",not_digit)"
   ]
  },
  {
   "cell_type": "code",
   "execution_count": null,
   "metadata": {},
   "outputs": [],
   "source": []
  }
 ],
 "metadata": {
  "kernelspec": {
   "display_name": "Python 3",
   "language": "python",
   "name": "python3"
  },
  "language_info": {
   "codemirror_mode": {
    "name": "ipython",
    "version": 3
   },
   "file_extension": ".py",
   "mimetype": "text/x-python",
   "name": "python",
   "nbconvert_exporter": "python",
   "pygments_lexer": "ipython3",
   "version": "3.12.7"
  }
 },
 "nbformat": 4,
 "nbformat_minor": 2
}
