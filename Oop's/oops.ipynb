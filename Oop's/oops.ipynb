{
 "cells": [
  {
   "cell_type": "markdown",
   "metadata": {},
   "source": [
    "class classname:\n",
    "    #statment-1\n",
    "    .\n",
    "    .\n",
    "    .\n",
    "    #statment-N"
   ]
  },
  {
   "cell_type": "code",
   "execution_count": 1,
   "metadata": {},
   "outputs": [
    {
     "name": "stdout",
     "output_type": "stream",
     "text": [
      "Sathyais 22year old\n"
     ]
    }
   ],
   "source": [
    "class parrot:\n",
    "    name:\"\"\n",
    "    age=0\n",
    "    \n",
    "parrot1=parrot()\n",
    "parrot1.name=\"Sathya\"\n",
    "parrot1.age=22\n",
    "print(f\"{parrot1.name}is {parrot1.age}year old\")"
   ]
  },
  {
   "cell_type": "markdown",
   "metadata": {},
   "source": [
    "self refer to instance of the class.it allow access to the instance's attribute and method within the class\n",
    "purposes:self differentiateds b\\w instance-specific data and class-level data,makin g it possibale to operte on the crt instance of the data"
   ]
  },
  {
   "cell_type": "code",
   "execution_count": 2,
   "metadata": {},
   "outputs": [
    {
     "name": "stdout",
     "output_type": "stream",
     "text": [
      "3\n"
     ]
    }
   ],
   "source": [
    "class add:\n",
    "    def __init__(self,a,b):\n",
    "        self.a=a\n",
    "        self.b=b\n",
    "    def ans(self):\n",
    "        return self.a+self.b\n",
    "add1=add(1,2)\n",
    "print(add1.ans())"
   ]
  },
  {
   "cell_type": "code",
   "execution_count": 3,
   "metadata": {},
   "outputs": [
    {
     "name": "stdout",
     "output_type": "stream",
     "text": [
      "THe number 20 is divisible by 2\n",
      "THe number 20 is not divisible by 3\n"
     ]
    }
   ],
   "source": [
    "class divisible:\n",
    "    def __init__(self,num):\n",
    "        self.num=num\n",
    "    \n",
    "    def divmod2(self):\n",
    "        if self.num%2==0:\n",
    "            print(f\"THe number {self.num} is divisible by 2\")\n",
    "        else:\n",
    "            print(f\"THe number {self.num} is not divisible by 2\")\n",
    "            \n",
    "    def divmod3(self):\n",
    "        if self.num%3==0:\n",
    "            print(f\"THe number {self.num} is divisible by 3\")\n",
    "        else:\n",
    "            print(f\"THe number {self.num} is not divisible by 3\")\n",
    "            \n",
    "divisible1=divisible(20)\n",
    "divisible1.divmod2()\n",
    "divisible1.divmod3()"
   ]
  },
  {
   "cell_type": "code",
   "execution_count": 4,
   "metadata": {},
   "outputs": [
    {
     "data": {
      "text/plain": [
       "'Hello,Sathya'"
      ]
     },
     "execution_count": 4,
     "metadata": {},
     "output_type": "execute_result"
    }
   ],
   "source": [
    "class greet:\n",
    "    def __init__(self,name):\n",
    "        self.name=name\n",
    "        \n",
    "    def say(self):\n",
    "        return f\"Hello,{self.name}\"\n",
    "greeting=greet(\"Sathya\")\n",
    "greeting.say()"
   ]
  },
  {
   "cell_type": "code",
   "execution_count": 5,
   "metadata": {},
   "outputs": [
    {
     "name": "stdout",
     "output_type": "stream",
     "text": [
      "20\n"
     ]
    }
   ],
   "source": [
    "class Foo:\n",
    "    def __init__(self,x):\n",
    "        self.x=x\n",
    "    def foo(self,y):\n",
    "        print(self.x+y)\n",
    "f=Foo(10)\n",
    "f.foo(10)"
   ]
  },
  {
   "cell_type": "code",
   "execution_count": 6,
   "metadata": {},
   "outputs": [
    {
     "name": "stdout",
     "output_type": "stream",
     "text": [
      "BMW\n",
      "RX-7\n",
      "Total number of cars: 4\n",
      "BMW,GT\n",
      "MAZA,RX-7\n",
      "NISSIAN,GTR-32\n",
      "TOYOTA,SUPRA-MK4\n"
     ]
    }
   ],
   "source": [
    "class car:\n",
    "    car_count=0\n",
    "    def __init__(self,make,model):\n",
    "        self.make=make\n",
    "        self.model=model\n",
    "        car.car_count += 1\n",
    "    def display_info(self):\n",
    "        print(f\"{self.make},{self.model}\")\n",
    "        \n",
    "car1=car(\"BMW\",\"GT\")\n",
    "car2=car(\"MAZA\",\"RX-7\")\n",
    "car3=car(\"NISSIAN\",\"GTR-32\")\n",
    "car4=car(\"TOYOTA\",\"SUPRA-MK4\")\n",
    "\n",
    "print(car1.make)\n",
    "print(car2.model)\n",
    "\n",
    "print(\"Total number of cars:\",car.car_count)\n",
    "\n",
    "car1.display_info()\n",
    "car2.display_info()\n",
    "car3.display_info()\n",
    "car4.display_info()"
   ]
  },
  {
   "cell_type": "code",
   "execution_count": 7,
   "metadata": {},
   "outputs": [
    {
     "name": "stdout",
     "output_type": "stream",
     "text": [
      "Addition 20.0\n",
      "Subtraction 0.0\n",
      "Multiplication 100.0\n",
      "Divide 1.0\n"
     ]
    }
   ],
   "source": [
    "class Calculator:\n",
    "    def __init__(self,x,y):\n",
    "        self.x=x\n",
    "        self.y=y\n",
    "        \n",
    "    def add(self):\n",
    "        return self.x + self.y\n",
    "    \n",
    "    def subtract(self):\n",
    "        return self.x - self.y\n",
    "    \n",
    "    def multiply(self):\n",
    "        return self.x * self.y\n",
    "    \n",
    "    def divide(self):\n",
    "        try:\n",
    "            return self.x / self.y\n",
    "        except ZeroDivisionError:\n",
    "            return \"Connot divide by Zero\" \n",
    "\n",
    "x=float(input(\"Enter the fisrt number: \"))\n",
    "y=float(input(\"Enter the second number: \"))\n",
    "\n",
    "calc=Calculator(x,y)\n",
    "result_add=calc.add()\n",
    "result_subtract=calc.subtract()\n",
    "result_multiply=calc.multiply()\n",
    "result_divide=calc.divide()\n",
    "\n",
    "print(\"Addition\", result_add)\n",
    "print(\"Subtraction\", result_subtract)\n",
    "print(\"Multiplication\", result_multiply)\n",
    "print(\"Divide\", result_divide)"
   ]
  },
  {
   "cell_type": "markdown",
   "metadata": {},
   "source": [
    "key point\n",
    "Data Hiding: private attribute cannot be accesed directly frim outside the class, promoting data integrint.\n",
    "Access Control: method like deposit and withdrew control how the balance can be modified"
   ]
  },
  {
   "cell_type": "code",
   "execution_count": 8,
   "metadata": {},
   "outputs": [
    {
     "name": "stdout",
     "output_type": "stream",
     "text": [
      "Sathya\n"
     ]
    }
   ],
   "source": [
    "class person:\n",
    "    def __init__(self,name,age):\n",
    "        self.name=name\n",
    "        self.age=age\n",
    "        \n",
    "person1=person(\"Sathya\",22)\n",
    "print(person1.name)"
   ]
  },
  {
   "cell_type": "code",
   "execution_count": 9,
   "metadata": {},
   "outputs": [
    {
     "name": "stdout",
     "output_type": "stream",
     "text": [
      "John\n",
      "John\n"
     ]
    }
   ],
   "source": [
    "class person:\n",
    "    def __init__(self,name,age):\n",
    "        self.name=name\n",
    "        self.age=age\n",
    "    \n",
    "    def displayname(self):\n",
    "        print(self.name)\n",
    "    \n",
    "Obj=person(\"John\",25)\n",
    "print(Obj.name)\n",
    "Obj.displayname()"
   ]
  },
  {
   "cell_type": "code",
   "execution_count": 10,
   "metadata": {},
   "outputs": [
    {
     "name": "stdout",
     "output_type": "stream",
     "text": [
      "John\n"
     ]
    }
   ],
   "source": [
    "class person:\n",
    "    def __init__(self,name,age):\n",
    "        self.__name=name\n",
    "        self.__age=age\n",
    "        \n",
    "    def displayname(self):\n",
    "        print(self.__name)\n",
    "\n",
    "Obj=person(\"John\",30)\n",
    "Obj.displayname()"
   ]
  },
  {
   "cell_type": "code",
   "execution_count": 11,
   "metadata": {},
   "outputs": [
    {
     "name": "stdout",
     "output_type": "stream",
     "text": [
      "2200\n"
     ]
    }
   ],
   "source": [
    "class BankAccount:\n",
    "    def __init__(self,balance):\n",
    "        self.__balance = balance\n",
    "    \n",
    "    def deposit(self,amount):\n",
    "        self.__balance += amount\n",
    "        \n",
    "    def withdraw(self,amount):\n",
    "        if self.__balance >= amount:\n",
    "            self.__balance -= amount\n",
    "        else:\n",
    "            print(\"Insufficient Fund in our Account\")\n",
    "    \n",
    "    def get_balance(self):\n",
    "        return self.__balance\n",
    "    \n",
    "account=BankAccount(2000)\n",
    "account.deposit(500)\n",
    "account.withdraw(300)\n",
    "print(account.get_balance())"
   ]
  },
  {
   "cell_type": "code",
   "execution_count": 12,
   "metadata": {},
   "outputs": [
    {
     "name": "stdout",
     "output_type": "stream",
     "text": [
      "color:red, model:BMW, year:2020\n",
      "20000\n"
     ]
    }
   ],
   "source": [
    "class Car:\n",
    "    def __init__(self,color,model,year):\n",
    "        self.color=color\n",
    "        self.model=model\n",
    "        self.year=year\n",
    "        self._mileage = 0\n",
    "        \n",
    "    def drive(self,miles):\n",
    "        if miles > 0:\n",
    "            self._mileage += miles\n",
    "    \n",
    "    def get_mileage(self):\n",
    "        return self._mileage\n",
    "    \n",
    "    def get_car_detail(self):\n",
    "        return f\"color:{self.color}, model:{self.model}, year:{self.year}\"\n",
    "    \n",
    "my_car=Car(\"red\",\"BMW\",2020)\n",
    "\n",
    "my_car.drive(20000)\n",
    "print(my_car.get_car_detail())\n",
    "print(my_car.get_mileage())        "
   ]
  },
  {
   "cell_type": "markdown",
   "metadata": {},
   "source": [
    "Inheritance\n",
    "key points:\n",
    "method overriding:subclasses can override method from yhe superclass to provide specific behavior\n",
    "super() function:used to call method from the superclass within the subclass "
   ]
  },
  {
   "cell_type": "code",
   "execution_count": 13,
   "metadata": {},
   "outputs": [
    {
     "name": "stdout",
     "output_type": "stream",
     "text": [
      "Sathya Reddy\n"
     ]
    }
   ],
   "source": [
    "class person:\n",
    "    def __init__(self,fname,lname):\n",
    "        self.fisrtname=fname\n",
    "        self.lastname=lname\n",
    "        \n",
    "    def printname(self):\n",
    "        print(self.fisrtname,self.lastname)\n",
    "        \n",
    "class student(person):\n",
    "    pass\n",
    "    \n",
    "x=student(\"Sathya\",\"Reddy\")\n",
    "x.printname()"
   ]
  },
  {
   "cell_type": "code",
   "execution_count": 14,
   "metadata": {},
   "outputs": [
    {
     "name": "stdout",
     "output_type": "stream",
     "text": [
      "Buddy\n",
      "Woof!!!!!\n",
      "Jacky\n",
      "Meow!!!!!\n"
     ]
    }
   ],
   "source": [
    "class Animal:\n",
    "    def __init__(self,name):\n",
    "        self.name = name\n",
    "    \n",
    "    def speak(self):\n",
    "        return \"Some generic sound\"\n",
    "\n",
    "class Dog(Animal):\n",
    "    def speak(self):\n",
    "        return \"Woof!!!!!\"\n",
    "    \n",
    "class Cat(Animal):\n",
    "    def speak(self):\n",
    "        return \"Meow!!!!!\"\n",
    "    \n",
    "dog = Dog(\"Buddy\")\n",
    "cat = Cat(\"Jacky\")\n",
    "\n",
    "print(dog.name)\n",
    "print(dog.speak())\n",
    "\n",
    "print(cat.name)\n",
    "print(cat.speak())"
   ]
  },
  {
   "cell_type": "code",
   "execution_count": 15,
   "metadata": {},
   "outputs": [
    {
     "name": "stdout",
     "output_type": "stream",
     "text": [
      "10 is divisible bt 2\n"
     ]
    }
   ],
   "source": [
    "class number:\n",
    "    def __init__(self,value):\n",
    "        self.value = value\n",
    "        \n",
    "    def is_divisible_by(self):\n",
    "        return self.value % 2==0\n",
    "    \n",
    "class Specialnumber(number):\n",
    "    def check_divisible(self):\n",
    "        if self.is_divisible_by():\n",
    "            print(f\"{self.value} is divisible bt 2\")\n",
    "        else:\n",
    "            print(f\"{self.value} is not divisible bt 2\")\n",
    "        \n",
    "if __name__=='__main__':\n",
    "    num=Specialnumber(10)\n",
    "    num.check_divisible()"
   ]
  },
  {
   "cell_type": "code",
   "execution_count": 16,
   "metadata": {},
   "outputs": [
    {
     "name": "stdout",
     "output_type": "stream",
     "text": [
      "Flying\n",
      "Swimming\n",
      "Quack!!\n"
     ]
    }
   ],
   "source": [
    "class Flyer:\n",
    "    def fly(self):\n",
    "        return \"Flying\"\n",
    "    \n",
    "class Swimmer:\n",
    "    def swim(self):\n",
    "        return \"Swimming\"\n",
    "    \n",
    "class Duck(Flyer,Swimmer):\n",
    "    def quack(self):\n",
    "        return \"Quack!!\"\n",
    "    \n",
    "donald=Duck()\n",
    "print(donald.fly())\n",
    "print(donald.swim())\n",
    "print(donald.quack())"
   ]
  },
  {
   "cell_type": "code",
   "execution_count": 17,
   "metadata": {},
   "outputs": [],
   "source": [
    "class person:\n",
    "    def __init__(self,name,age):\n",
    "        self.__name = name\n",
    "        self.__age = age\n",
    "        \n",
    "    def get_name(self):\n",
    "        return self.__name\n",
    "    \n",
    "    def get_age(self):\n",
    "        return self.__age"
   ]
  },
  {
   "cell_type": "code",
   "execution_count": 18,
   "metadata": {},
   "outputs": [
    {
     "name": "stdout",
     "output_type": "stream",
     "text": [
      "Student details :\n",
      "------------------\n",
      "Name: John\n",
      "Age: 20\n",
      "Roll no: 101\n"
     ]
    }
   ],
   "source": [
    "class student(person):\n",
    "    def __init__(self, name, age,rollno):\n",
    "        super().__init__(name, age)\n",
    "        self.rollno = rollno\n",
    "        \n",
    "    def display(self):\n",
    "        print(\"Student details :\")\n",
    "        print(\"------------------\")\n",
    "        name1=super().get_name()\n",
    "        print(\"Name:\",name1)\n",
    "        print(\"Age:\",self.get_age())\n",
    "        print(\"Roll no:\",self.rollno)\n",
    "        \n",
    "student1=student(\"John\",20,101)\n",
    "student1.display()"
   ]
  },
  {
   "cell_type": "code",
   "execution_count": 19,
   "metadata": {},
   "outputs": [
    {
     "name": "stdout",
     "output_type": "stream",
     "text": [
      "10 is divisible bt 2\n"
     ]
    }
   ],
   "source": [
    "class number:\n",
    "    def __init__(self,value):\n",
    "        self.value = value\n",
    "        \n",
    "    def is_divisible_by(self):\n",
    "        return self.value % 2==0\n",
    "    \n",
    "class Specialnumber(number):\n",
    "    def __init__(self, value):\n",
    "        super().__init__(value)\n",
    "    \n",
    "    def check_divisible(self):\n",
    "        if self.is_divisible_by():\n",
    "            print(f\"{self.value} is divisible bt 2\")\n",
    "        else:\n",
    "            print(f\"{self.value} is not divisible bt 2\")\n",
    "        \n",
    "if __name__=='__main__':\n",
    "    num=Specialnumber(10)\n",
    "    num.check_divisible()"
   ]
  },
  {
   "cell_type": "code",
   "execution_count": 20,
   "metadata": {},
   "outputs": [
    {
     "name": "stdout",
     "output_type": "stream",
     "text": [
      "Brand :BMW,model:GT\n"
     ]
    }
   ],
   "source": [
    "class Vehicle:\n",
    "    def __init__(self,brand):\n",
    "        self.brand = brand\n",
    "        \n",
    "    def info(self):\n",
    "        return f\"Brand :{self.brand}\"\n",
    "    \n",
    "class Car(Vehicle):\n",
    "    def __init__(self, brand,model):\n",
    "        super().__init__(brand)\n",
    "        self.model = model\n",
    "        \n",
    "    def info(self):\n",
    "        parent_info = super().info()\n",
    "        return f\"{parent_info},model:{self.model}\"\n",
    "    \n",
    "car=Car(\"BMW\",\"GT\")\n",
    "print(car.info())"
   ]
  },
  {
   "cell_type": "code",
   "execution_count": 27,
   "metadata": {},
   "outputs": [
    {
     "name": "stdout",
     "output_type": "stream",
     "text": [
      "Welcome to ws \n",
      "Welcome to wsRahul\n"
     ]
    }
   ],
   "source": [
    "class Ws:\n",
    "    def displayinfo(self, name=' '):\n",
    "        print(\"Welcome to ws\"+name)\n",
    "        \n",
    "obj=Ws()\n",
    "obj.displayinfo()\n",
    "obj.displayinfo(\"Rahul\")"
   ]
  },
  {
   "cell_type": "code",
   "execution_count": 28,
   "metadata": {},
   "outputs": [
    {
     "data": {
      "text/plain": [
       "6"
      ]
     },
     "execution_count": 28,
     "metadata": {},
     "output_type": "execute_result"
    }
   ],
   "source": [
    "class add:\n",
    "    def sum(self,a,b):\n",
    "        return a+b\n",
    "    \n",
    "s=add()\n",
    "s.sum(1,5)"
   ]
  },
  {
   "cell_type": "code",
   "execution_count": 34,
   "metadata": {},
   "outputs": [
    {
     "name": "stdout",
     "output_type": "stream",
     "text": [
      "Welcome to CS\n",
      "Welcome to CS1 Python\n"
     ]
    }
   ],
   "source": [
    "class Ws:\n",
    "    def displayinfo(self):\n",
    "        print(\"Welcome to CS\")\n",
    "    \n",
    "class Ws1(Ws):\n",
    "    def displayinfo(self,name):\n",
    "        super().displayinfo()\n",
    "        print(\"Welcome to CS1\",name)\n",
    "        \n",
    "obj=Ws1()\n",
    "obj.displayinfo(\"Python\")"
   ]
  },
  {
   "cell_type": "code",
   "execution_count": 36,
   "metadata": {},
   "outputs": [
    {
     "name": "stdout",
     "output_type": "stream",
     "text": [
      "3\n",
      "6\n"
     ]
    }
   ],
   "source": [
    "class MathOperation:\n",
    "    def add(self,a,b,c=None):\n",
    "        if c is not None:\n",
    "            return a + b + c\n",
    "        return a + b\n",
    "    \n",
    "if __name__==\"__main__\":\n",
    "    math=MathOperation()\n",
    "    print(math.add(1,2))\n",
    "    print(math.add(1,2,3))"
   ]
  },
  {
   "cell_type": "code",
   "execution_count": 37,
   "metadata": {},
   "outputs": [
    {
     "name": "stdout",
     "output_type": "stream",
     "text": [
      "Flying high\n",
      "Jet speed\n"
     ]
    }
   ],
   "source": [
    "class Bird:\n",
    "    def fly(self):\n",
    "        return \"Flying high\"\n",
    "\n",
    "class Airplan:\n",
    "    def fly(self):\n",
    "        return \"Jet speed\"\n",
    "    \n",
    "def make_it_fly(Flying_things):\n",
    "    print(Flying_things.fly())\n",
    "    \n",
    "bird = Bird()\n",
    "plan = Airplan()\n",
    "\n",
    "make_it_fly(bird)\n",
    "make_it_fly(plan)"
   ]
  },
  {
   "cell_type": "code",
   "execution_count": 49,
   "metadata": {},
   "outputs": [],
   "source": [
    "class Animal:\n",
    "    def __init__(self , name):\n",
    "        self.name = name\n",
    "        \n",
    "    def speak(self):\n",
    "        return \"Some generic sound\"\n",
    "    "
   ]
  },
  {
   "cell_type": "code",
   "execution_count": 50,
   "metadata": {},
   "outputs": [
    {
     "name": "stdout",
     "output_type": "stream",
     "text": [
      "Buddy bark.\n",
      "shoopy meows.\n"
     ]
    }
   ],
   "source": [
    "class Dog(Animal):\n",
    "    def speak(self):\n",
    "        print(f\"{self.name} bark.\")\n",
    "        \n",
    "class Cat(Animal):\n",
    "    def speak(self):\n",
    "        print(f\"{self.name} meows.\")\n",
    "        \n",
    "Animals = [Dog(\"Buddy\"), Cat(\"shoopy\")]\n",
    "\n",
    "for Animal in Animals:\n",
    "    Animal.speak()"
   ]
  },
  {
   "cell_type": "code",
   "execution_count": 55,
   "metadata": {},
   "outputs": [
    {
     "name": "stdout",
     "output_type": "stream",
     "text": [
      "Triangle has three sides\n"
     ]
    }
   ],
   "source": [
    "from abc import ABC, abstractmethod\n",
    "class shape(ABC):\n",
    "    def shape(self):\n",
    "        print(\"This is a shape\")\n",
    "    \n",
    "    @abstractmethod\n",
    "    def side(self):\n",
    "        pass\n",
    "    \n",
    "class triangle(shape):\n",
    "    def side(self):\n",
    "        print(\"Triangle has three sides\")\n",
    "        \n",
    "obj=triangle()\n",
    "obj.side()"
   ]
  },
  {
   "cell_type": "code",
   "execution_count": 65,
   "metadata": {},
   "outputs": [
    {
     "name": "stdout",
     "output_type": "stream",
     "text": [
      "8\n",
      "12\n",
      "28.27431\n",
      "18.849539999999998\n"
     ]
    }
   ],
   "source": [
    "class shape(ABC):\n",
    "    @abstractmethod\n",
    "    def area(self):\n",
    "        print(\"Area\")\n",
    "        pass\n",
    "    \n",
    "    @abstractmethod\n",
    "    def perimeter(self):\n",
    "        pass\n",
    "    \n",
    "class Rectangle(shape):\n",
    "    def __init__(self,width,height):\n",
    "        self.width = width\n",
    "        self.height = height\n",
    "        \n",
    "    def area(self):\n",
    "        return self.width * self.height\n",
    "    \n",
    "    def perimeter(self):\n",
    "        return 2 * (self.width + self.height)\n",
    "    \n",
    "class Circle(shape):\n",
    "    def __init__(self,radius):\n",
    "        self.radius = radius\n",
    "        \n",
    "    def area(self):\n",
    "        return 3.14159 * self.radius ** 2\n",
    "    \n",
    "    def perimeter(self):\n",
    "        return 2 * 3.14159 * self.radius\n",
    "    \n",
    "rect = Rectangle(2,4)\n",
    "circle = Circle(3)\n",
    "print(rect.area())\n",
    "print(rect.perimeter())\n",
    "print(circle.area())\n",
    "print(circle.perimeter())\n"
   ]
  },
  {
   "cell_type": "code",
   "execution_count": 68,
   "metadata": {},
   "outputs": [
    {
     "name": "stdout",
     "output_type": "stream",
     "text": [
      "Car engine started.\n",
      "Bike engine started.\n"
     ]
    }
   ],
   "source": [
    "class Vehicle(ABC):\n",
    "    @abstractmethod\n",
    "    def start_engine(self):\n",
    "        pass\n",
    "    \n",
    "class Car(Vehicle):\n",
    "    def start_engine(self):\n",
    "        print(\"Car engine started.\")\n",
    "        \n",
    "class Bike(Vehicle):\n",
    "    def start_engine(self):\n",
    "        print(\"Bike engine started.\")\n",
    "        \n",
    "car = Car()\n",
    "bike = Bike()\n",
    "car.start_engine()\n",
    "bike.start_engine()"
   ]
  },
  {
   "cell_type": "code",
   "execution_count": null,
   "metadata": {},
   "outputs": [],
   "source": []
  }
 ],
 "metadata": {
  "kernelspec": {
   "display_name": "Python 3",
   "language": "python",
   "name": "python3"
  },
  "language_info": {
   "codemirror_mode": {
    "name": "ipython",
    "version": 3
   },
   "file_extension": ".py",
   "mimetype": "text/x-python",
   "name": "python",
   "nbconvert_exporter": "python",
   "pygments_lexer": "ipython3",
   "version": "3.12.7"
  }
 },
 "nbformat": 4,
 "nbformat_minor": 2
}
