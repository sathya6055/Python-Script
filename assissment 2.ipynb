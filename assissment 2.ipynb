{
 "cells": [
  {
   "cell_type": "markdown",
   "metadata": {},
   "source": [
    "1. Explain the difference between if, elif, and else statements in Python?\n",
    "Ans: if Statement: The if statement is the most basic conditional statement in Python.\n",
    "     else Statement: The else statement provides an alternative action for when the condition in the if statement is not met. \n",
    "     elif Statement: The elif statement, short for \"else if\", allows you to check multiple conditions sequentially \n",
    "\n",
    " 2. How does the and, or, and not operators work in Python conditional statements? Provide examples ?\n",
    " Ans: 1. and Operator\n",
    "          Returns True if both conditions are true.\n",
    "         Syntax: condition1 and condition2\n",
    "\n",
    "      2. or Operator\n",
    "         Returns True if at least one condition is true.\n",
    "         Syntax: condition1 or condition2 \n",
    "      \n",
    "      3. not Operator\n",
    "         Inverts the truth value of a condition.\n",
    "         Syntax: not condition   "
   ]
  },
  {
   "cell_type": "code",
   "execution_count": 1,
   "metadata": {},
   "outputs": [
    {
     "name": "stdout",
     "output_type": "stream",
     "text": [
      "Condition is False, but `not` makes it True\n"
     ]
    }
   ],
   "source": [
    "x = 10\n",
    "\n",
    "if not x > 15:\n",
    "    print(\"Condition is False, but `not` makes it True\")\n",
    "else:\n",
    "    print(\"Condition is True, so `not` makes it False\")\n"
   ]
  },
  {
   "cell_type": "markdown",
   "metadata": {},
   "source": [
    "3. Describe how Python evaluates a chain of if-elif-else statements?\n",
    "Ans: In Python, a chain of if-elif-else statements is evaluated sequentially, from top to bottom. Python checks each condition one at a time until it finds a condition that evaluates to True. Once a condition evaluates to True, the corresponding block of code is executed, and the rest of the chain is skipped. \n",
    " \n",
    "below  exmple shows : "
   ]
  },
  {
   "cell_type": "code",
   "execution_count": 2,
   "metadata": {},
   "outputs": [
    {
     "name": "stdout",
     "output_type": "stream",
     "text": [
      "x is between 20 and 30\n"
     ]
    }
   ],
   "source": [
    "x = 25\n",
    "\n",
    "if x < 10:\n",
    "    print(\"x is less than 10\")\n",
    "elif x < 20:\n",
    "    print(\"x is between 10 and 20\")\n",
    "elif x < 30:\n",
    "    print(\"x is between 20 and 30\")\n",
    "else:\n",
    "    print(\"x is 30 or more\")\n"
   ]
  },
  {
   "cell_type": "markdown",
   "metadata": {},
   "source": [
    "4. How can nested if statements be used in Python? Provide an example where nested conditions are necessary?\n",
    "Ans: Nested if statements in Python occur when an if statement is placed inside another if (or elif, else) block. These are useful when decisions depend on multiple layers of conditions, where the second condition needs to be evaluated only if the first condition is True.\n"
   ]
  },
  {
   "cell_type": "code",
   "execution_count": 4,
   "metadata": {},
   "outputs": [
    {
     "name": "stdout",
     "output_type": "stream",
     "text": [
      "You qualify for the scholarship!\n"
     ]
    }
   ],
   "source": [
    "gpa = 3.8\n",
    "income = 45000\n",
    "\n",
    "if gpa >= 3.5:  \n",
    "    if income < 50000: \n",
    "        print(\"You qualify for the scholarship!\")\n",
    "    else:\n",
    "        print(\"You do not qualify due to income.\")\n",
    "else:\n",
    "    print(\"You do not qualify due to GPA.\")\n"
   ]
  },
  {
   "cell_type": "markdown",
   "metadata": {},
   "source": [
    "5. What is the significance of indentation in Python's conditional statements?\n",
    "Ans:Indentation in Python is critical, especially in conditional statements, because it defines the blocks of code that belong to a specific condition. Unlike many other programming languages that use braces ({}) or keywords to delimit code blocks, Python uses whitespace indentation to create structure.\n",
    " \n",
    " Significance of Indentation in Python:\n",
    "  1. Defines Code Blocks\n",
    "  2. Enforces Readability\n",
    "  3. Mandatory Requirement"
   ]
  },
  {
   "cell_type": "markdown",
   "metadata": {},
   "source": [
    "6. How does Python handle conditions that involve multiple comparisons, such as 5 < x < 10?\n",
    "Ans: "
   ]
  },
  {
   "cell_type": "code",
   "execution_count": 5,
   "metadata": {},
   "outputs": [
    {
     "name": "stdout",
     "output_type": "stream",
     "text": [
      "11\n",
      "x is not greater than 5\n"
     ]
    }
   ],
   "source": [
    "x = 10\n",
    "if x < 5:\n",
    "    print(\"x is greater than 5\")\n",
    "else:\n",
    "    x+=1\n",
    "    print(x)\n",
    "    print(\"x is not greater than 5\")"
   ]
  },
  {
   "cell_type": "markdown",
   "metadata": {},
   "source": [
    "checks if a number is positive, negative, or zero code"
   ]
  },
  {
   "cell_type": "code",
   "execution_count": null,
   "metadata": {},
   "outputs": [],
   "source": [
    "a = int(input(\"Enter the value of a: \"))\n",
    "\n",
    "if a > 0:\n",
    "    print(f\"{a} is a positive number\")\n",
    "elif a < 0:\n",
    "    print(f\"{a} is a negative number\")\n",
    "else:\n",
    "    print(f\"{a} is zero\")\n",
    "    "
   ]
  },
  {
   "cell_type": "markdown",
   "metadata": {},
   "source": [
    "checks if it's even or odd"
   ]
  },
  {
   "cell_type": "code",
   "execution_count": 1,
   "metadata": {},
   "outputs": [
    {
     "name": "stdout",
     "output_type": "stream",
     "text": [
      "10 is even.\n"
     ]
    }
   ],
   "source": [
    "n = int(input(\"Enter a number: \"))\n",
    "\n",
    "if n % 2 == 0:\n",
    "    print(f\"{n} is even.\")\n",
    "else:\n",
    "    print(f\"{n} is odd.\")\n"
   ]
  },
  {
   "cell_type": "code",
   "execution_count": 2,
   "metadata": {},
   "outputs": [
    {
     "name": "stdout",
     "output_type": "stream",
     "text": [
      "10 Not Palindrome\n"
     ]
    }
   ],
   "source": [
    "t = input(\"Enter a text\")\n",
    "\n",
    "match t:\n",
    "    case _ if t == t[::-1]:\n",
    "        print(f\"{t} Palindrome\")\n",
    "    case _:\n",
    "        print(f\"{t} Not Palindrome\")"
   ]
  },
  {
   "cell_type": "code",
   "execution_count": 3,
   "metadata": {},
   "outputs": [
    {
     "name": "stdout",
     "output_type": "stream",
     "text": [
      "10 is divisible by 5\n"
     ]
    }
   ],
   "source": [
    "a = int(input(\"Enter the value of a: \"))\n",
    "\n",
    "if a % 3 == 0 and a % 5 == 0:\n",
    "    print(f\"{a} is divisible by both 3 and 5\")\n",
    "elif a % 3 == 0:\n",
    "    print(f\"{a} is divisible by 3\")\n",
    "elif a % 5 == 0:\n",
    "    print(f\"{a} is divisible by 5\")\n",
    "else:\n",
    "    print(f\"{a} is not divisible by both 3 and 5\")"
   ]
  }
 ],
 "metadata": {
  "kernelspec": {
   "display_name": "Python 3",
   "language": "python",
   "name": "python3"
  },
  "language_info": {
   "codemirror_mode": {
    "name": "ipython",
    "version": 3
   },
   "file_extension": ".py",
   "mimetype": "text/x-python",
   "name": "python",
   "nbconvert_exporter": "python",
   "pygments_lexer": "ipython3",
   "version": "3.12.7"
  }
 },
 "nbformat": 4,
 "nbformat_minor": 2
}
