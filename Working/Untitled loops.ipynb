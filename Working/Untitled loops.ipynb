{
 "cells": [
  {
   "cell_type": "markdown",
   "metadata": {},
   "source": [
    "1.Explain the difference between a for loop and a while loop. In what scenarios would you prefer to use one over the other\n",
    "ans:for loop\n",
    "    A for loop is used to iterate over a sequence (like a list, tuple, range, or string) or perform a known number of iterations.\n",
    "    The number of iterations is typically fixed or determined by the sequence being iterated.\n",
    "  ->While Loop\n",
    "    A while loop continues to execute as long as a specified condition evaluates to True.\n",
    "    The number of iterations is not fixed and depends on when the condition becomes False.  "
   ]
  },
  {
   "cell_type": "code",
   "execution_count": 1,
   "metadata": {},
   "outputs": [
    {
     "name": "stdout",
     "output_type": "stream",
     "text": [
      "2\n",
      "4\n",
      "6\n",
      "8\n",
      "10\n"
     ]
    }
   ],
   "source": [
    "numbers = [1, 2, 3, 4, 5, 6, 7, 8, 9, 10]\n",
    "for number in numbers:\n",
    "    if number % 2 == 0:\n",
    "        print(number)\n"
   ]
  },
  {
   "cell_type": "code",
   "execution_count": 4,
   "metadata": {},
   "outputs": [
    {
     "name": "stdout",
     "output_type": "stream",
     "text": [
      "Lengths of each string: [5, 6, 6, 4]\n"
     ]
    }
   ],
   "source": [
    "strings = [\"apple\", \"banana\", \"cherry\", \"date\"]\n",
    "lengths = []\n",
    "for string in strings:\n",
    "    lengths.append(len(string))\n",
    "print(\"Lengths of each string:\", lengths)"
   ]
  },
  {
   "cell_type": "code",
   "execution_count": 5,
   "metadata": {},
   "outputs": [
    {
     "name": "stdout",
     "output_type": "stream",
     "text": [
      "1\n",
      "2\n",
      "3\n",
      "4\n",
      "Breaking the loop at i = 5\n"
     ]
    }
   ],
   "source": [
    "for i in range(1, 11):\n",
    "    if i == 5:\n",
    "        print(\"Breaking the loop at i =\", i)\n",
    "        break \n",
    "    print(i)\n"
   ]
  },
  {
   "cell_type": "code",
   "execution_count": 7,
   "metadata": {},
   "outputs": [
    {
     "name": "stdout",
     "output_type": "stream",
     "text": [
      "0 1 1 2 3 5 8 "
     ]
    }
   ],
   "source": [
    "def fibonacci(n):\n",
    "  \n",
    "    a, b = 0, 1\n",
    "    while a <= n:\n",
    "        print(a, end=\" \") \n",
    "        a, b = b, a + b  \n",
    "n = int(input(\"Enter the value of n: \"))\n",
    "fibonacci(n)"
   ]
  },
  {
   "cell_type": "markdown",
   "metadata": {},
   "source": [
    "xplain how nested for loops work. In what situations are they commonly used?\n",
    "ans:\n",
    "You can have loops inside loops. This is known as nested loops. The inner loop is executed for each iteration of the outer loop, leading to a more complex pattern of iteration."
   ]
  },
  {
   "cell_type": "code",
   "execution_count": 9,
   "metadata": {},
   "outputs": [
    {
     "name": "stdout",
     "output_type": "stream",
     "text": [
      "1 2 3 4 5 6 6 7 8 "
     ]
    }
   ],
   "source": [
    "a = [[1,2,3],[4,5,6],[6,7,8]]\n",
    "for i in a:\n",
    "    for j in i:\n",
    "        print(j, end=' ')"
   ]
  },
  {
   "cell_type": "code",
   "execution_count": 10,
   "metadata": {},
   "outputs": [
    {
     "name": "stdout",
     "output_type": "stream",
     "text": [
      "  1   2   3   4   5   6   7   8   9  10 \n",
      "  2   4   6   8  10  12  14  16  18  20 \n",
      "  3   6   9  12  15  18  21  24  27  30 \n",
      "  4   8  12  16  20  24  28  32  36  40 \n",
      "  5  10  15  20  25  30  35  40  45  50 \n",
      "  6  12  18  24  30  36  42  48  54  60 \n",
      "  7  14  21  28  35  42  49  56  63  70 \n",
      "  8  16  24  32  40  48  56  64  72  80 \n",
      "  9  18  27  36  45  54  63  72  81  90 \n",
      " 10  20  30  40  50  60  70  80  90 100 \n"
     ]
    }
   ],
   "source": [
    "for i in range(1, 11): \n",
    "    for j in range(1, 11): \n",
    "        print(f\"{i * j:3}\", end=\" \") \n",
    "    print()\n"
   ]
  },
  {
   "cell_type": "code",
   "execution_count": 11,
   "metadata": {},
   "outputs": [
    {
     "name": "stdout",
     "output_type": "stream",
     "text": [
      "\n",
      "Pyramid\n",
      "\n",
      "*\n",
      "**\n",
      "***\n",
      "****\n",
      "*****\n"
     ]
    }
   ],
   "source": [
    "print(\"\\nPyramid\")\n",
    "for i in range(6):\n",
    "    x = '*'\n",
    "    x=x*i\n",
    "    print(f'{x}')"
   ]
  },
  {
   "cell_type": "markdown",
   "metadata": {},
   "source": [
    "What is list comprehension? How does it differ from using a for loop to create a list?\n",
    "ans:\n",
    "List comprehension is a concise and efficient way to create lists in Python. It allows you to generate a new list by applying an expression to each item in an iterable (like a list, range, or string) and optionally filtering elements based on a condition."
   ]
  },
  {
   "cell_type": "code",
   "execution_count": 12,
   "metadata": {},
   "outputs": [
    {
     "name": "stdout",
     "output_type": "stream",
     "text": [
      "[4, 16, 36, 64, 100]\n"
     ]
    }
   ],
   "source": [
    "squares_of_even = [x**2 for x in range(1, 11) if x % 2 == 0]\n",
    "print(squares_of_even)"
   ]
  },
  {
   "cell_type": "code",
   "execution_count": 13,
   "metadata": {},
   "outputs": [
    {
     "name": "stdout",
     "output_type": "stream",
     "text": [
      "[1, 4, 9, 16, 25, 36, 49, 64, 81, 100]\n"
     ]
    }
   ],
   "source": [
    "squares = [x**2 for x in range(1, 11)]\n",
    "print(squares)"
   ]
  },
  {
   "cell_type": "code",
   "execution_count": 14,
   "metadata": {},
   "outputs": [
    {
     "name": "stdout",
     "output_type": "stream",
     "text": [
      "['apple', 'banana', 'elephant']\n"
     ]
    }
   ],
   "source": [
    "strings = [\"apple\", \"cat\", \"banana\", \"dog\", \"elephant\"]\n",
    "long_strings = [s for s in strings if len(s) > 3]\n",
    "print(long_strings)\n"
   ]
  },
  {
   "cell_type": "code",
   "execution_count": 15,
   "metadata": {},
   "outputs": [
    {
     "name": "stdout",
     "output_type": "stream",
     "text": [
      "{'a': 1, 'b': 2, 'c': 3}\n"
     ]
    }
   ],
   "source": [
    "keys = ['a', 'b', 'c']\n",
    "values = [1, 2, 3]\n",
    "my_dict = {keys[i]: values[i] for i in range(len(keys))}\n",
    "print(my_dict)"
   ]
  },
  {
   "cell_type": "code",
   "execution_count": 16,
   "metadata": {},
   "outputs": [
    {
     "name": "stdout",
     "output_type": "stream",
     "text": [
      "{'name': 'Alice', 'age': 25, 'city': 'New York'}\n"
     ]
    }
   ],
   "source": [
    "keys = ['name', 'age', 'city']\n",
    "values = ['Alice', 25, 'New York']\n",
    "my_dict = {keys[i]: values[i] for i in range(len(keys))}\n",
    "print(my_dict)\n"
   ]
  },
  {
   "cell_type": "code",
   "execution_count": 20,
   "metadata": {},
   "outputs": [
    {
     "data": {
      "text/plain": [
       "{0, 2, 4, 6, 8}"
      ]
     },
     "execution_count": 20,
     "metadata": {},
     "output_type": "execute_result"
    }
   ],
   "source": [
    "even = { i for i in range(10) if i % 2 == 0} \n",
    "even"
   ]
  },
  {
   "cell_type": "markdown",
   "metadata": {},
   "source": [
    "What is the difference between the break and continue statements? \n",
    "ans:break statement:\n",
    "     reak is a loop control statement which would terminate the loop and executes the code after the loop. The loop will be terminated even though the last item is not reached in case of a 'for' loop and even though the condition is still satisfied in case of a 'while' loop.\n",
    "->Continue Statement:\n",
    "Usage: The continue statement is used to skip the rest of the code inside the loop for the current iteration. It jumps to the next iteration of the loop."
   ]
  },
  {
   "cell_type": "code",
   "execution_count": 21,
   "metadata": {},
   "outputs": [
    {
     "name": "stdout",
     "output_type": "stream",
     "text": [
      "1\n",
      "2\n",
      "3\n"
     ]
    }
   ],
   "source": [
    "a = [1,2,3,4,5,3,6]\n",
    "\n",
    "for i in a:\n",
    "    print(i)\n",
    "    if i == 3:\n",
    "        break\n",
    "    else:\n",
    "        continue"
   ]
  },
  {
   "cell_type": "code",
   "execution_count": 3,
   "metadata": {},
   "outputs": [
    {
     "name": "stdout",
     "output_type": "stream",
     "text": [
      "Number greater than 50 found: 60\n"
     ]
    }
   ],
   "source": [
    "numbers = [10, 20, 30, 40, 50, 60, 70, 80]\n",
    "\n",
    "for num in numbers:\n",
    "    if num > 50:\n",
    "        print(f\"Number greater than 50 found: {num}\")\n",
    "        break"
   ]
  },
  {
   "cell_type": "code",
   "execution_count": 5,
   "metadata": {},
   "outputs": [
    {
     "name": "stdout",
     "output_type": "stream",
     "text": [
      "1\n",
      "2\n",
      "3\n",
      "4\n",
      "6\n",
      "7\n",
      "8\n",
      "9\n",
      "10\n"
     ]
    }
   ],
   "source": [
    "i = 1 \n",
    "\n",
    "while i <= 10:\n",
    "    if i == 5:\n",
    "        i += 1 \n",
    "        continue\n",
    "    print(i)\n",
    "    i += 1"
   ]
  },
  {
   "cell_type": "code",
   "execution_count": 6,
   "metadata": {},
   "outputs": [
    {
     "name": "stdout",
     "output_type": "stream",
     "text": [
      "First negative number found: -5\n"
     ]
    }
   ],
   "source": [
    "numbers = [10, 20, 30, -5, 40, 50]  \n",
    "\n",
    "for num in numbers:\n",
    "    if num < 0:\n",
    "        print(f\"First negative number found: {num}\")\n",
    "        break\n",
    "else:\n",
    "    print(\"No negative numbers found.\")\n"
   ]
  }
 ],
 "metadata": {
  "kernelspec": {
   "display_name": "Python 3",
   "language": "python",
   "name": "python3"
  },
  "language_info": {
   "codemirror_mode": {
    "name": "ipython",
    "version": 3
   },
   "file_extension": ".py",
   "mimetype": "text/x-python",
   "name": "python",
   "nbconvert_exporter": "python",
   "pygments_lexer": "ipython3",
   "version": "3.12.7"
  }
 },
 "nbformat": 4,
 "nbformat_minor": 2
}
